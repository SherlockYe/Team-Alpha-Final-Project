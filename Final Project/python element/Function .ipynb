{
 "cells": [
  {
   "cell_type": "code",
   "execution_count": 1,
   "metadata": {
    "scrolled": false
   },
   "outputs": [
    {
     "name": "stdout",
     "output_type": "stream",
     "text": [
      "Please enter the country you want to researchChina\n",
      "Please enter the date you want to look at2020-3-14\n"
     ]
    },
    {
     "data": {
      "text/plain": [
       "{'date': '2020-3-14', 'confirmed': 80977, 'deaths': 3193, 'recovered': 65660}"
      ]
     },
     "execution_count": 1,
     "metadata": {},
     "output_type": "execute_result"
    }
   ],
   "source": [
    "import json\n",
    "import datetime\n",
    "with open('timeseries.json') as f:\n",
    "      corona_data = json.load(f)\n",
    "\n",
    "def general_info():\n",
    "    country_name= input('Please enter the country you want to research') #ask for country information\n",
    "    date= input('Please enter the date you want to look at')\n",
    "    for i in corona_data:\n",
    "        if i == country_name:\n",
    "            for x in corona_data[i]:\n",
    "                if x['date']==date:\n",
    "                    return x\n",
    "\n",
    "general_info()\n",
    "http://localhost:3400/\n"
   ]
  },
  {
   "cell_type": "code",
   "execution_count": 2,
   "metadata": {
    "scrolled": true
   },
   "outputs": [
    {
     "name": "stdout",
     "output_type": "stream",
     "text": [
      "Please enter the country you want to see the rateChina\n",
      "Please enter the start date2020-3-14\n",
      "Please enter the final date2020-4-14\n"
     ]
    },
    {
     "data": {
      "text/plain": [
       "'There is an average increasing rate of75.12903225806451 people per day in between this time slot you chose'"
      ]
     },
     "execution_count": 2,
     "metadata": {},
     "output_type": "execute_result"
    }
   ],
   "source": [
    "from datetime import date \n",
    "  \n",
    "def numOfDays(date1, date2): \n",
    "    return (date2-date1).days \n",
    "\n",
    "\n",
    "def increasing_rate():\n",
    "    country_name= input('Please enter the country you want to see the rate')\n",
    "    start_date=input('Please enter the start date')\n",
    "    final_date=input('Please enter the final date')\n",
    "    start_date_year=int(start_date.split('-')[0])\n",
    "    start_date_month=int(start_date.split('-')[1])\n",
    "    start_date_day=int(start_date.split('-')[2])\n",
    "    final_date_year=int(final_date.split('-')[0])\n",
    "    final_date_month=int(final_date.split('-')[1])\n",
    "    final_date_day=int(final_date.split('-')[2])\n",
    "    \n",
    "    for i in corona_data:\n",
    "        if i == country_name:\n",
    "            for x in corona_data[i]:\n",
    "                if x['date']==start_date:\n",
    "                    a=int(x['confirmed'])\n",
    "                elif x['date']==final_date:\n",
    "                    b=int(x['confirmed'])\n",
    "                    break\n",
    "    confirmed_difference=b-a\n",
    "    \n",
    "    date1 = date(start_date_year, start_date_month, start_date_day) \n",
    "    date2 = date(final_date_year, final_date_month, final_date_day) \n",
    "    day_difference = numOfDays(date1, date2) \n",
    "    average_rate=confirmed_difference/day_difference\n",
    "    \n",
    "    return 'There is an average increasing rate of' + str(average_rate) + ' people per day in between this time slot you chose'\n",
    "\n",
    "increasing_rate()"
   ]
  },
  {
   "cell_type": "code",
   "execution_count": null,
   "metadata": {},
   "outputs": [],
   "source": [
    "import json\n",
    "with open('timeseries.json','r') as f:\n",
    "      json_text = f.read()\n",
    "\n",
    "# Decode the JSON string into a Python dictionary.\n",
    "corona_data = json.loads(json_text)\n",
    "\n",
    "# Encode the Python dictionary into a JSON string.\n",
    "new_json_string = json.dumps(corona_data, indent=4)\n",
    "\n",
    "\n",
    "\n",
    "\n",
    "\n",
    "def general_info():\n",
    "    country_name= input('Please enter the country you want to research') #ask for country information\n",
    "    date= input('Please enter the date you want to look at')\n",
    "    for i in new_json_string:\n",
    "        if i == country_name:\n",
    "            for x in new_json_string[i]:\n",
    "                if x['date']==date:\n",
    "                    return x \n",
    "\n",
    "                \n",
    "general_info()"
   ]
  },
  {
   "cell_type": "code",
   "execution_count": null,
   "metadata": {},
   "outputs": [],
   "source": []
  }
 ],
 "metadata": {
  "kernelspec": {
   "display_name": "Python 3",
   "language": "python",
   "name": "python3"
  },
  "language_info": {
   "codemirror_mode": {
    "name": "ipython",
    "version": 3
   },
   "file_extension": ".py",
   "mimetype": "text/x-python",
   "name": "python",
   "nbconvert_exporter": "python",
   "pygments_lexer": "ipython3",
   "version": "3.7.4"
  }
 },
 "nbformat": 4,
 "nbformat_minor": 4
}
